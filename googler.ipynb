from google.colab import auth
import gspread
from oauth2client.client import GoogleCredentials


def authenticate() -> gspread.client.Client:
    auth.authenticate_user()
    return gspread.authorize(GoogleCredentials.get_application_default())
